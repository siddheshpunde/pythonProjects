{
 "cells": [
  {
   "cell_type": "code",
   "execution_count": 1,
   "metadata": {},
   "outputs": [
    {
     "name": "stdout",
     "output_type": "stream",
     "text": [
      "Enter the number313\n",
      "It is a palindrome number!\n"
     ]
    }
   ],
   "source": [
    "rev=0\n",
    "n=int(input('Enter the number'))\n",
    "temp=n\n",
    "while(n>0):\n",
    "    rem=n%10\n",
    "    rev=rev*10+rem\n",
    "    n=n//10        \n",
    "if(rev==temp):\n",
    "    print(\"It is a palindrome number!\")\n",
    "else:\n",
    "    print(\"It is not a palindrome number!\")\n",
    "\n",
    "\n",
    "        \n",
    "        "
   ]
  },
  {
   "cell_type": "code",
   "execution_count": null,
   "metadata": {},
   "outputs": [],
   "source": []
  },
  {
   "cell_type": "code",
   "execution_count": null,
   "metadata": {},
   "outputs": [],
   "source": []
  }
 ],
 "metadata": {
  "kernelspec": {
   "display_name": "Python 3",
   "language": "python",
   "name": "python3"
  },
  "language_info": {
   "codemirror_mode": {
    "name": "ipython",
    "version": 3
   },
   "file_extension": ".py",
   "mimetype": "text/x-python",
   "name": "python",
   "nbconvert_exporter": "python",
   "pygments_lexer": "ipython3",
   "version": "3.7.3"
  }
 },
 "nbformat": 4,
 "nbformat_minor": 2
}
